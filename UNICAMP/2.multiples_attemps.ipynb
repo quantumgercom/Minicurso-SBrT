{
  "nbformat": 4,
  "nbformat_minor": 0,
  "metadata": {
    "colab": {
      "provenance": []
    },
    "kernelspec": {
      "name": "python3",
      "display_name": "Python 3"
    },
    "language_info": {
      "name": "python"
    }
  },
  "cells": [
    {
      "cell_type": "code",
      "execution_count": 1,
      "metadata": {
        "colab": {
          "base_uri": "https://localhost:8080/"
        },
        "id": "dtvpcvJ27PWi",
        "outputId": "3cbdb705-588e-4248-d588-73ff039ef91f"
      },
      "outputs": [
        {
          "output_type": "stream",
          "name": "stdout",
          "text": [
            "\u001b[2K     \u001b[90m━━━━━━━━━━━━━━━━━━━━━━━━━━━━━━━━━━━━━━━━\u001b[0m \u001b[32m60.4/60.4 kB\u001b[0m \u001b[31m1.9 MB/s\u001b[0m eta \u001b[36m0:00:00\u001b[0m\n",
            "\u001b[2K     \u001b[90m━━━━━━━━━━━━━━━━━━━━━━━━━━━━━━━━━━━━━━━━\u001b[0m \u001b[32m4.0/4.0 MB\u001b[0m \u001b[31m27.6 MB/s\u001b[0m eta \u001b[36m0:00:00\u001b[0m\n",
            "\u001b[?25h  Preparing metadata (setup.py) ... \u001b[?25l\u001b[?25hdone\n",
            "\u001b[2K   \u001b[90m━━━━━━━━━━━━━━━━━━━━━━━━━━━━━━━━━━━━━━━━\u001b[0m \u001b[32m153.1/153.1 kB\u001b[0m \u001b[31m8.6 MB/s\u001b[0m eta \u001b[36m0:00:00\u001b[0m\n",
            "\u001b[2K   \u001b[90m━━━━━━━━━━━━━━━━━━━━━━━━━━━━━━━━━━━━━━━━\u001b[0m \u001b[32m16.3/16.3 MB\u001b[0m \u001b[31m70.3 MB/s\u001b[0m eta \u001b[36m0:00:00\u001b[0m\n",
            "\u001b[2K   \u001b[90m━━━━━━━━━━━━━━━━━━━━━━━━━━━━━━━━━━━━━━━━\u001b[0m \u001b[32m36.4/36.4 MB\u001b[0m \u001b[31m15.8 MB/s\u001b[0m eta \u001b[36m0:00:00\u001b[0m\n",
            "\u001b[2K   \u001b[90m━━━━━━━━━━━━━━━━━━━━━━━━━━━━━━━━━━━━━━━━\u001b[0m \u001b[32m7.8/7.8 MB\u001b[0m \u001b[31m79.6 MB/s\u001b[0m eta \u001b[36m0:00:00\u001b[0m\n",
            "\u001b[2K   \u001b[90m━━━━━━━━━━━━━━━━━━━━━━━━━━━━━━━━━━━━━━━━\u001b[0m \u001b[32m222.5/222.5 kB\u001b[0m \u001b[31m11.9 MB/s\u001b[0m eta \u001b[36m0:00:00\u001b[0m\n",
            "\u001b[2K   \u001b[90m━━━━━━━━━━━━━━━━━━━━━━━━━━━━━━━━━━━━━━━━\u001b[0m \u001b[32m228.0/228.0 kB\u001b[0m \u001b[31m10.5 MB/s\u001b[0m eta \u001b[36m0:00:00\u001b[0m\n",
            "\u001b[?25h  Building wheel for dash-cytoscape (setup.py) ... \u001b[?25l\u001b[?25hdone\n",
            "\u001b[2K   \u001b[90m━━━━━━━━━━━━━━━━━━━━━━━━━━━━━━━━━━━━━━━━\u001b[0m \u001b[32m1.6/1.6 MB\u001b[0m \u001b[31m19.9 MB/s\u001b[0m eta \u001b[36m0:00:00\u001b[0m\n",
            "\u001b[?25h"
          ]
        }
      ],
      "source": [
        "!pip install -q sequence\n",
        "!pip install -q matplotlib\n",
        "!pip install -q ipywidgets"
      ]
    },
    {
      "cell_type": "code",
      "source": [
        "from sequence.topology.node import Node\n",
        "from sequence.components.memory import Memory\n",
        "from sequence.entanglement_management.generation import EntanglementGenerationA\n",
        "from sequence.kernel.timeline import Timeline\n",
        "\n",
        "class SimpleManager:\n",
        "    def __init__(self, owner, memo_name):\n",
        "        self.owner = owner\n",
        "        self.memo_name = memo_name\n",
        "        self.raw_counter = 0\n",
        "        self.ent_counter = 0\n",
        "\n",
        "    def update(self, protocol, memory, state):\n",
        "        if state == 'RAW':\n",
        "            self.raw_counter += 1\n",
        "            memory.reset()\n",
        "        else:\n",
        "            self.ent_counter += 1\n",
        "\n",
        "    def create_protocol(self, middle: str, other: str):\n",
        "        self.owner.protocols = [EntanglementGenerationA(self.owner, '%s.eg' % self.owner.name, middle, other,\n",
        "                                                      self.owner.components[self.memo_name])]\n",
        "\n",
        "\n",
        "class EntangleGenNode(Node):\n",
        "    def __init__(self, name: str, tl: Timeline):\n",
        "        super().__init__(name, tl)\n",
        "\n",
        "        memo_name = '%s.memo' % name\n",
        "        memory = Memory(memo_name, tl, 0.9, 2000, 1, -1, 500)\n",
        "        memory.owner = self\n",
        "        memory.add_receiver(self)\n",
        "        self.add_component(memory)\n",
        "\n",
        "        self.resource_manager = SimpleManager(self, memo_name)\n",
        "\n",
        "    def init(self):\n",
        "        memory = self.get_components_by_type(\"Memory\")[0]\n",
        "        memory.reset()\n",
        "\n",
        "    def receive_message(self, src: str, msg: \"Message\") -> None:\n",
        "        self.protocols[0].received_message(src, msg)\n",
        "\n",
        "    def get(self, photon, **kwargs):\n",
        "        self.send_qubit(kwargs['dst'], photon)"
      ],
      "metadata": {
        "id": "mRodD1Ns7XSU"
      },
      "execution_count": 3,
      "outputs": []
    },
    {
      "cell_type": "code",
      "source": [
        "from sequence.kernel.timeline import Timeline\n",
        "from sequence.topology.node import BSMNode\n",
        "from sequence.components.optical_channel import QuantumChannel, ClassicalChannel\n",
        "\n",
        "\n",
        "tl = Timeline()\n",
        "\n",
        "node1 = EntangleGenNode('node1', tl)\n",
        "node2 = EntangleGenNode('node2', tl)\n",
        "bsm_node = BSMNode('bsm_node', tl, ['node1', 'node2'])\n",
        "node1.set_seed(0)\n",
        "node2.set_seed(1)\n",
        "bsm_node.set_seed(2)\n",
        "\n",
        "bsm = bsm_node.get_components_by_type(\"SingleAtomBSM\")[0]\n",
        "bsm.update_detectors_params('efficiency', 1)\n",
        "\n",
        "qc1 = QuantumChannel('qc1', tl, attenuation=0, distance=1000)\n",
        "qc2 = QuantumChannel('qc2', tl, attenuation=0, distance=1000)\n",
        "qc1.set_ends(node1, bsm_node.name)\n",
        "qc2.set_ends(node2, bsm_node.name)\n",
        "\n",
        "nodes = [node1, node2, bsm_node]\n",
        "\n",
        "for i in range(3):\n",
        "    for j in range(3):\n",
        "        cc= ClassicalChannel('cc_%s_%s'%(nodes[i].name, nodes[j].name), tl, 1000, 1e8)\n",
        "        cc.set_ends(nodes[i], nodes[j].name)"
      ],
      "metadata": {
        "id": "eyNWRsuR7e6j"
      },
      "execution_count": 4,
      "outputs": []
    },
    {
      "cell_type": "code",
      "source": [
        "from sequence.entanglement_management.entanglement_protocol import EntanglementProtocol\n",
        "\n",
        "\n",
        "def pair_protocol(node1: Node, node2: Node):\n",
        "    p1 = node1.protocols[0]\n",
        "    p2 = node2.protocols[0]\n",
        "    node1_memo_name = node1.get_components_by_type(\"Memory\")[0].name\n",
        "    node2_memo_name = node2.get_components_by_type(\"Memory\")[0].name\n",
        "    p1.set_others(p2.name, node2.name, [node2_memo_name])\n",
        "    p2.set_others(p1.name, node1.name, [node1_memo_name])\n",
        "\n",
        "\n",
        "node1.resource_manager.create_protocol('bsm_node', 'node2')\n",
        "node2.resource_manager.create_protocol('bsm_node', 'node1')\n",
        "pair_protocol(node1, node2)\n",
        "\n",
        "memory = node1.get_components_by_type(\"Memory\")[0]\n",
        "\n",
        "print('before', memory.entangled_memory, memory.fidelity)\n",
        "# \"before node1.memo {'node_id': None, 'memo_id': None} 0\"\n",
        "\n",
        "tl.init()\n",
        "node1.protocols[0].start()\n",
        "node2.protocols[0].start()\n",
        "tl.run()\n",
        "\n",
        "print('after', memory.entangled_memory, memory.fidelity)\n",
        "# (if the generation fails) \"after node1.memo {'node_id': None, 'memo_id': None} 0\"\n",
        "# (if the generation succeeds) \"after node1.memo {'node_id': 'node2', 'memo_id': 'node2.memo'} 0.9\""
      ],
      "metadata": {
        "colab": {
          "base_uri": "https://localhost:8080/"
        },
        "id": "ziZpXa0Q7hX6",
        "outputId": "73983c1d-9191-4b04-ec1d-9481d0954d80"
      },
      "execution_count": 5,
      "outputs": [
        {
          "output_type": "stream",
          "name": "stdout",
          "text": [
            "before {'node_id': None, 'memo_id': None} 0\n",
            "after {'node_id': None, 'memo_id': None} 0\n"
          ]
        }
      ]
    },
    {
      "cell_type": "code",
      "source": [
        "tl.init()\n",
        "for i in range(1000):\n",
        "    tl.time = tl.now() + 1e11\n",
        "    node1.resource_manager.create_protocol('bsm_node', 'node2')\n",
        "    node2.resource_manager.create_protocol('bsm_node', 'node1')\n",
        "    pair_protocol(node1, node2)\n",
        "\n",
        "    node1.protocols[0].start()\n",
        "    node2.protocols[0].start()\n",
        "    tl.run()\n",
        "\n",
        "print(\"node1 entangled memories : available memories\")\n",
        "print(node1.resource_manager.ent_counter, ':', node1.resource_manager.raw_counter)\n",
        "# (around 500:500; the exact number depends on the seed of numpy.random)"
      ],
      "metadata": {
        "colab": {
          "base_uri": "https://localhost:8080/"
        },
        "id": "QnveTatr7lYj",
        "outputId": "06c59869-5195-42d8-a3e1-e6c38806532e"
      },
      "execution_count": 6,
      "outputs": [
        {
          "output_type": "stream",
          "name": "stdout",
          "text": [
            "node1 entangled memories : available memories\n",
            "499 : 502\n"
          ]
        }
      ]
    }
  ]
}