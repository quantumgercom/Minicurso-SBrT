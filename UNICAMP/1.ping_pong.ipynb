{
  "nbformat": 4,
  "nbformat_minor": 0,
  "metadata": {
    "colab": {
      "provenance": []
    },
    "kernelspec": {
      "name": "python3",
      "display_name": "Python 3"
    },
    "language_info": {
      "name": "python"
    }
  },
  "cells": [
    {
      "cell_type": "code",
      "execution_count": 1,
      "metadata": {
        "id": "dFo6EtYn0nBc"
      },
      "outputs": [],
      "source": [
        "!pip install -q sequence\n",
        "!pip install -q matplotlib\n",
        "!pip install -q ipywidgets"
      ]
    },
    {
      "cell_type": "code",
      "source": [
        "from enum import Enum, auto\n",
        "\n",
        "class MsgType(Enum):\n",
        "    PING = auto()\n",
        "    PONG = auto()"
      ],
      "metadata": {
        "id": "PvUb1RF03KeG"
      },
      "execution_count": 2,
      "outputs": []
    },
    {
      "cell_type": "code",
      "source": [
        "from sequence.topology.node import Node\n",
        "from sequence.protocol import Protocol\n",
        "from sequence.message import Message\n",
        "\n",
        "class PingProtocol(Protocol):\n",
        "    def __init__(self, owner: Node, name: str, other_name: str, other_node: str):\n",
        "        super().__init__(owner, name)\n",
        "        owner.protocols.append(self)\n",
        "        self.other_name = other_name\n",
        "        self.other_node = other_node\n",
        "\n",
        "    def init(self):\n",
        "        pass\n",
        "\n",
        "    def start(self):\n",
        "        new_msg = Message(MsgType.PING, self.other_name)\n",
        "        self.owner.send_message(self.other_node, new_msg)\n",
        "\n",
        "    def received_message(self, src: str, message: Message):\n",
        "        assert message.msg_type == MsgType.PONG\n",
        "        print(\"node {} received pong message at time {}\".format(self.owner.name, self.owner.timeline.now()))\n",
        "\n",
        "\n",
        "class PongProtocol(Protocol):\n",
        "    def __init__(self, owner: Node, name: str, other_name: str, other_node: str):\n",
        "        super().__init__(owner, name)\n",
        "        owner.protocols.append(self)\n",
        "        self.other_name = other_name\n",
        "        self.other_node = other_node\n",
        "\n",
        "    def init(self):\n",
        "        pass\n",
        "\n",
        "    def received_message(self, src: str, message: Message):\n",
        "        assert message.msg_type == MsgType.PING\n",
        "        print(\"node {} received ping message at time {}\".format(self.owner.name, self.owner.timeline.now()))\n",
        "        new_msg = Message(MsgType.PONG, self.other_name)\n",
        "        self.owner.send_message(self.other_node, new_msg)"
      ],
      "metadata": {
        "colab": {
          "base_uri": "https://localhost:8080/"
        },
        "id": "6GBo7rPk3NeU",
        "outputId": "4d463f23-21fe-4a88-ec71-be69f7b00bdb"
      },
      "execution_count": 3,
      "outputs": [
        {
          "output_type": "stream",
          "name": "stderr",
          "text": [
            "/usr/local/lib/python3.10/dist-packages/qutip/__init__.py:66: UserWarning: The new version of Cython, (>= 3.0.0) is not supported.\n",
            "  warnings.warn(\n"
          ]
        }
      ]
    },
    {
      "cell_type": "code",
      "source": [
        "from sequence.kernel.timeline import Timeline\n",
        "from sequence.components.optical_channel import ClassicalChannel\n",
        "\n",
        "tl = Timeline(1e12)\n",
        "\n",
        "node1 = Node(\"node1\", tl)\n",
        "node2 = Node(\"node2\", tl)\n",
        "\n",
        "cc0 = ClassicalChannel(\"cc0\", tl, 1e3, 1e9)\n",
        "cc1 = ClassicalChannel(\"cc1\", tl, 1e3, 1e9)\n",
        "cc0.set_ends(node1, node2.name)\n",
        "cc1.set_ends(node2, node1.name)\n",
        "\n",
        "pingp = PingProtocol(node1, \"pingp\", \"pongp\", \"node2\")\n",
        "pongp = PongProtocol(node2, \"pongp\", \"pingp\", \"node1\")"
      ],
      "metadata": {
        "id": "vEmX_4693O88"
      },
      "execution_count": 4,
      "outputs": []
    },
    {
      "cell_type": "code",
      "source": [
        "from sequence.kernel.process import Process\n",
        "from sequence.kernel.event import Event\n",
        "\n",
        "process = Process(pingp, \"start\", [])\n",
        "event = Event(0, process)\n",
        "tl.schedule(event)\n",
        "\n",
        "tl.init()\n",
        "tl.run()"
      ],
      "metadata": {
        "colab": {
          "base_uri": "https://localhost:8080/"
        },
        "id": "YjktDWO13Rbt",
        "outputId": "6c06512b-02e7-49af-c2d3-ff42ecb96101"
      },
      "execution_count": 5,
      "outputs": [
        {
          "output_type": "stream",
          "name": "stdout",
          "text": [
            "node node2 received ping message at time 1000000000\n",
            "node node1 received pong message at time 2000000000\n"
          ]
        }
      ]
    }
  ]
}