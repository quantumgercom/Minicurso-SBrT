{
  "nbformat": 4,
  "nbformat_minor": 0,
  "metadata": {
    "colab": {
      "provenance": []
    },
    "kernelspec": {
      "name": "python3",
      "display_name": "Python 3"
    },
    "language_info": {
      "name": "python"
    }
  },
  "cells": [
    {
      "cell_type": "code",
      "execution_count": 3,
      "metadata": {
        "id": "SR_z9WdF-BEg"
      },
      "outputs": [],
      "source": [
        "!pip install -q sequence\n",
        "!pip install -q matplotlib\n",
        "!pip install -q ipywidgets"
      ]
    },
    {
      "cell_type": "code",
      "source": [
        "from sequence.entanglement_management.purification import BBPSSW\n",
        "from sequence.kernel.timeline import Timeline\n",
        "from sequence.topology.node import BSMNode\n",
        "from sequence.components.optical_channel import QuantumChannel, ClassicalChannel\n",
        "from sequence.topology.node import Node\n",
        "from sequence.components.memory import Memory\n",
        "from sequence.entanglement_management.generation import EntanglementGenerationA"
      ],
      "metadata": {
        "id": "_Z8qh3f3-qw5"
      },
      "execution_count": 4,
      "outputs": []
    },
    {
      "cell_type": "code",
      "source": [
        "class SwapNodeA(Node):\n",
        "    def __init__(self, name: str, tl: Timeline):\n",
        "        super().__init__(name, tl)\n",
        "        left_memo_name = '%s.left_memo' % name\n",
        "        right_memo_name = '%s.right_memo' % name\n",
        "        left_memo = Memory(left_memo_name, tl, 0.9, 2000, 1, -1, 500)\n",
        "        right_memo = Memory(right_memo_name, tl, 0.9, 2000, 1, -1, 500)\n",
        "        self.add_component(left_memo)\n",
        "        self.add_component(right_memo)\n",
        "\n",
        "        self.resource_manager = SimpleManager(self, [left_memo_name, right_memo_name])\n",
        "\n",
        "    def receive_message(self, src: str, msg: \"Message\") -> None:\n",
        "        self.protocols[0].received_message(src, msg)"
      ],
      "metadata": {
        "id": "v0VLNhY_-zUb"
      },
      "execution_count": 5,
      "outputs": []
    },
    {
      "cell_type": "code",
      "source": [
        "class SwapNodeB(Node):\n",
        "    def __init__(self, name: str, tl: Timeline):\n",
        "        super().__init__(name, tl)\n",
        "        memo_name = '%s.memo' % name\n",
        "        memo = Memory(memo_name, tl, 0.9, 2000, 1, -1, 500)\n",
        "        self.add_component(memo)\n",
        "\n",
        "        self.resource_manager = SimpleManager(self, [memo_name])\n",
        "\n",
        "    def receive_message(self, src: str, msg: \"Message\") -> None:\n",
        "        self.protocols[0].received_message(src, msg)"
      ],
      "metadata": {
        "id": "tQjiOIYY-3rh"
      },
      "execution_count": 6,
      "outputs": []
    },
    {
      "cell_type": "code",
      "source": [
        "from sequence.entanglement_management.swapping import EntanglementSwappingA, EntanglementSwappingB\n",
        "\n",
        "class SimpleManager:\n",
        "    def __init__(self, owner, memo_names):\n",
        "        self.owner = owner\n",
        "        self.memo_names = memo_names\n",
        "        self.raw_counter = 0\n",
        "        self.ent_counter = 0\n",
        "\n",
        "    def update(self, protocol, memory, state):\n",
        "        if state == 'RAW':\n",
        "            self.raw_counter += 1\n",
        "            memory.reset()\n",
        "        else:\n",
        "            self.ent_counter += 1\n",
        "\n",
        "    def create_protocol(self):\n",
        "        if type(self.owner) is SwapNodeA:\n",
        "            left_memo = self.owner.components[self.memo_names[0]]\n",
        "            right_memo = self.owner.components[self.memo_names[1]]\n",
        "            self.owner.protocols = [EntanglementSwappingA(self.owner, 'ESA', left_memo, right_memo, 1, 0.99)]\n",
        "        else:\n",
        "            memo = self.owner.components[self.memo_names[0]]\n",
        "            self.owner.protocols = [EntanglementSwappingB(self.owner, '%s.ESB' % self.owner.name, memo)]"
      ],
      "metadata": {
        "id": "NrZo_phT-4vY"
      },
      "execution_count": 7,
      "outputs": []
    },
    {
      "cell_type": "code",
      "source": [
        "tl = Timeline()\n",
        "\n",
        "left_node = SwapNodeB('left', tl)\n",
        "right_node = SwapNodeB('right', tl)\n",
        "mid_node = SwapNodeA('mid', tl)\n",
        "left_node.set_seed(0)\n",
        "right_node.set_seed(1)\n",
        "mid_node.set_seed(2)\n",
        "\n",
        "nodes = [left_node, right_node, mid_node]\n",
        "\n",
        "for i in range(3):\n",
        "    for j in range(3):\n",
        "        cc = ClassicalChannel('cc_%s_%s' % (nodes[i].name, nodes[j].name), tl, 1000, 1e9)\n",
        "        cc.set_ends(nodes[i], nodes[j].name)"
      ],
      "metadata": {
        "id": "UFulm71T-8ch"
      },
      "execution_count": 8,
      "outputs": []
    },
    {
      "cell_type": "code",
      "source": [
        "def entangle_memory(memo1: Memory, memo2: Memory, fidelity: float):\n",
        "    memo1.reset()\n",
        "    memo2.reset()\n",
        "\n",
        "    memo1.entangled_memory['node_id'] = memo2.owner.name\n",
        "    memo1.entangled_memory['memo_id'] = memo2.name\n",
        "    memo2.entangled_memory['node_id'] = memo1.owner.name\n",
        "    memo2.entangled_memory['memo_id'] = memo1.name\n",
        "\n",
        "    memo1.fidelity = memo2.fidelity = fidelity\n"
      ],
      "metadata": {
        "id": "mSfbilDc_U7S"
      },
      "execution_count": 9,
      "outputs": []
    },
    {
      "cell_type": "code",
      "source": [
        "def pair_protocol(node1, node2, node_mid):\n",
        "    p1 = node1.protocols[0]\n",
        "    p2 = node2.protocols[0]\n",
        "    pmid = node_mid.protocols[0]\n",
        "    p1.set_others(pmid.name, node_mid.name,\n",
        "                  [node_mid.resource_manager.memo_names[0], node_mid.resource_manager.memo_names[1]])\n",
        "    p2.set_others(pmid.name, node_mid.name,\n",
        "                  [node_mid.resource_manager.memo_names[0], node_mid.resource_manager.memo_names[1]])\n",
        "    pmid.set_others(p1.name, node1.name, [node1.resource_manager.memo_names[0]])\n",
        "    pmid.set_others(p2.name, node2.name, [node2.resource_manager.memo_names[0]])\n",
        "\n",
        "left_memo = left_node.components[left_node.resource_manager.memo_names[0]]\n",
        "right_memo = right_node.components[right_node.resource_manager.memo_names[0]]\n",
        "mid_left_memo = mid_node.components[mid_node.resource_manager.memo_names[0]]\n",
        "mid_right_memo = mid_node.components[mid_node.resource_manager.memo_names[1]]\n",
        "entangle_memory(left_memo, mid_left_memo, 0.9)\n",
        "entangle_memory(right_memo, mid_right_memo, 0.9)\n",
        "\n",
        "for node in nodes:\n",
        "    node.resource_manager.create_protocol()\n",
        "\n",
        "pair_protocol(left_node, right_node, mid_node)\n",
        "\n",
        "tl.init()\n",
        "for node in nodes:\n",
        "    node.protocols[0].start()\n",
        "tl.run()\n",
        "\n",
        "print(left_memo.entangled_memory)\n",
        "# {'node_id': 'right', 'memo_id': 'right.memo'}\n",
        "\n",
        "print(mid_left_memo.entangled_memory)\n",
        "# {'node_id': None, 'memo_id': None}\n",
        "\n",
        "print(mid_right_memo.entangled_memory)\n",
        "# {'node_id': None, 'memo_id': None}\n",
        "\n",
        "print(right_memo.entangled_memory)\n",
        "# {'node_id': 'left', 'memo_id': 'left.memo'}\n",
        "\n",
        "print(left_memo.fidelity)\n",
        "# 0.8019000000000001"
      ],
      "metadata": {
        "colab": {
          "base_uri": "https://localhost:8080/"
        },
        "id": "IkEVtVqp-83w",
        "outputId": "81744a1c-5592-44f5-cf3c-212010f34292"
      },
      "execution_count": 10,
      "outputs": [
        {
          "output_type": "stream",
          "name": "stdout",
          "text": [
            "{'node_id': 'right', 'memo_id': 'right.memo'}\n",
            "{'node_id': None, 'memo_id': None}\n",
            "{'node_id': None, 'memo_id': None}\n",
            "{'node_id': 'left', 'memo_id': 'left.memo'}\n",
            "0.8019000000000001\n"
          ]
        }
      ]
    }
  ]
}