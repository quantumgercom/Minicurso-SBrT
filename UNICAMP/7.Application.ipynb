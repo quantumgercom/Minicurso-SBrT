{
  "nbformat": 4,
  "nbformat_minor": 0,
  "metadata": {
    "colab": {
      "provenance": []
    },
    "kernelspec": {
      "name": "python3",
      "display_name": "Python 3"
    },
    "language_info": {
      "name": "python"
    }
  },
  "cells": [
    {
      "cell_type": "code",
      "execution_count": 1,
      "metadata": {
        "colab": {
          "base_uri": "https://localhost:8080/"
        },
        "id": "IK0jVCZiu7NY",
        "outputId": "696108f5-f820-4af7-f1b3-5985d3fb5095"
      },
      "outputs": [
        {
          "output_type": "stream",
          "name": "stdout",
          "text": [
            "\u001b[2K     \u001b[90m━━━━━━━━━━━━━━━━━━━━━━━━━━━━━━━━━━━━━━━━\u001b[0m \u001b[32m60.4/60.4 kB\u001b[0m \u001b[31m2.2 MB/s\u001b[0m eta \u001b[36m0:00:00\u001b[0m\n",
            "\u001b[2K     \u001b[90m━━━━━━━━━━━━━━━━━━━━━━━━━━━━━━━━━━━━━━━━\u001b[0m \u001b[32m4.0/4.0 MB\u001b[0m \u001b[31m36.2 MB/s\u001b[0m eta \u001b[36m0:00:00\u001b[0m\n",
            "\u001b[?25h  Preparing metadata (setup.py) ... \u001b[?25l\u001b[?25hdone\n",
            "\u001b[2K   \u001b[90m━━━━━━━━━━━━━━━━━━━━━━━━━━━━━━━━━━━━━━━━\u001b[0m \u001b[32m153.1/153.1 kB\u001b[0m \u001b[31m10.2 MB/s\u001b[0m eta \u001b[36m0:00:00\u001b[0m\n",
            "\u001b[2K   \u001b[90m━━━━━━━━━━━━━━━━━━━━━━━━━━━━━━━━━━━━━━━━\u001b[0m \u001b[32m16.3/16.3 MB\u001b[0m \u001b[31m4.1 MB/s\u001b[0m eta \u001b[36m0:00:00\u001b[0m\n",
            "\u001b[2K   \u001b[90m━━━━━━━━━━━━━━━━━━━━━━━━━━━━━━━━━━━━━━━━\u001b[0m \u001b[32m36.4/36.4 MB\u001b[0m \u001b[31m18.6 MB/s\u001b[0m eta \u001b[36m0:00:00\u001b[0m\n",
            "\u001b[2K   \u001b[90m━━━━━━━━━━━━━━━━━━━━━━━━━━━━━━━━━━━━━━━━\u001b[0m \u001b[32m7.8/7.8 MB\u001b[0m \u001b[31m80.4 MB/s\u001b[0m eta \u001b[36m0:00:00\u001b[0m\n",
            "\u001b[2K   \u001b[90m━━━━━━━━━━━━━━━━━━━━━━━━━━━━━━━━━━━━━━━━\u001b[0m \u001b[32m222.5/222.5 kB\u001b[0m \u001b[31m15.0 MB/s\u001b[0m eta \u001b[36m0:00:00\u001b[0m\n",
            "\u001b[2K   \u001b[90m━━━━━━━━━━━━━━━━━━━━━━━━━━━━━━━━━━━━━━━━\u001b[0m \u001b[32m228.0/228.0 kB\u001b[0m \u001b[31m15.6 MB/s\u001b[0m eta \u001b[36m0:00:00\u001b[0m\n",
            "\u001b[?25h  Building wheel for dash-cytoscape (setup.py) ... \u001b[?25l\u001b[?25hdone\n",
            "\u001b[2K   \u001b[90m━━━━━━━━━━━━━━━━━━━━━━━━━━━━━━━━━━━━━━━━\u001b[0m \u001b[32m1.6/1.6 MB\u001b[0m \u001b[31m16.8 MB/s\u001b[0m eta \u001b[36m0:00:00\u001b[0m\n",
            "\u001b[?25h"
          ]
        }
      ],
      "source": [
        "!pip install -q sequence\n",
        "!pip install -q matplotlib\n",
        "!pip install -q ipywidgets"
      ]
    },
    {
      "cell_type": "code",
      "source": [
        "from sequence.kernel.process import Process\n",
        "from sequence.kernel.event import Event\n",
        "from sequence.topology.router_net_topo import RouterNetTopo\n",
        "\n",
        "from typing import TYPE_CHECKING\n",
        "if TYPE_CHECKING:\n",
        "    from sequence.topology.node import QuantumRouter\n",
        "\n",
        "\n",
        "class PeriodicApp:\n",
        "    def __init__(self, node: \"QuantumRouter\", other: str, memory_size=25, target_fidelity=0.9):\n",
        "        self.node = node\n",
        "        self.node.set_app(self)\n",
        "        self.other = other\n",
        "        self.memory_size = memory_size\n",
        "        self.target_fidelity = target_fidelity\n",
        "\n",
        "    def start(self):\n",
        "        now = self.node.timeline.now()\n",
        "        nm = self.node.network_manager\n",
        "        nm.request(self.other, start_time=(now + 1e12), end_time=(now + 2e12),\n",
        "                   memory_size=self.memory_size,\n",
        "                   target_fidelity=self.target_fidelity)\n",
        "\n",
        "        # schedule future start\n",
        "        process = Process(self, \"start\", [])\n",
        "        event = Event(now + 2e12, process)\n",
        "        self.node.timeline.schedule(event)\n",
        "\n",
        "    #Colooquei na mesma função\n",
        "    def get_reservation_result(self, reservation: \"Reservation\", result: bool):\n",
        "        if result:\n",
        "            print(\"Reservation approved at time\", self.node.timeline.now() * 1e-12)\n",
        "        else:\n",
        "            print(\"Reservation failed at time\", self.node.timeline.now() * 1e-12)\n",
        "\n",
        "    def get_memory(self, info: \"MemoryInfo\"):\n",
        "        if info.state == \"ENTANGLED\" and info.remote_node == self.other:\n",
        "            print(\"\\t{} app received memory {} ENTANGLED at time {}\".format(self.node.name, info.index, self.node.timeline.now() * 1e-12))\n",
        "            self.node.resource_manager.update(None, info.memory, \"RAW\")"
      ],
      "metadata": {
        "id": "w0RBtzwSvEWe"
      },
      "execution_count": 8,
      "outputs": []
    },
    {
      "cell_type": "code",
      "source": [
        "class ResetApp:\n",
        "    def __init__(self, node, other_node_name, target_fidelity=0.9):\n",
        "        self.node = node\n",
        "        self.node.set_app(self)\n",
        "        self.other_node_name = other_node_name\n",
        "        self.target_fidelity = target_fidelity\n",
        "\n",
        "    def get_other_reservation(self, reservation):\n",
        "        \"\"\"called when receiving the request from the initiating node.\n",
        "\n",
        "        For this application, we do not need to do anything.\n",
        "        \"\"\"\n",
        "\n",
        "        pass\n",
        "\n",
        "    def get_memory(self, info):\n",
        "        \"\"\"Similar to the get_memory method of the main application.\n",
        "\n",
        "        We check if the memory info meets the request first,\n",
        "        by noting the remote entangled memory and entanglement fidelity.\n",
        "        We then free the memory for future use.\n",
        "        \"\"\"\n",
        "\n",
        "        if (info.state == \"ENTANGLED\" and info.remote_node == self.other_node_name\n",
        "                and info.fidelity > self.target_fidelity):\n",
        "            self.node.resource_manager.update(None, info.memory, \"RAW\")"
      ],
      "metadata": {
        "id": "guDs4WFRvFoW"
      },
      "execution_count": 9,
      "outputs": []
    },
    {
      "cell_type": "code",
      "source": [
        "network_config = \"2.json\"\n",
        "num_periods = 5\n",
        "\n",
        "network_topo = RouterNetTopo(network_config)\n",
        "tl = network_topo.get_timeline()\n",
        "tl.stop_time = 2e12 * num_periods\n",
        "tl.show_progress = False\n",
        "\n",
        "start_node_name = \"end1\"\n",
        "end_node_name = \"end2\"\n",
        "node1 = node2 = None\n",
        "\n",
        "for router in network_topo.get_nodes_by_type(RouterNetTopo.QUANTUM_ROUTER):\n",
        "    if router.name == start_node_name:\n",
        "        node1 = router\n",
        "    elif router.name == end_node_name:\n",
        "        node2 = router\n",
        "\n",
        "app = PeriodicApp(node1, end_node_name)\n",
        "reset_app = ResetApp(node2, start_node_name)\n",
        "\n",
        "tl.init()\n",
        "app.start()\n",
        "tl.run()"
      ],
      "metadata": {
        "colab": {
          "base_uri": "https://localhost:8080/"
        },
        "id": "XftIlBYnvZUV",
        "outputId": "dca7c92f-139b-4a1d-aa40-fa2613e23cb0"
      },
      "execution_count": 10,
      "outputs": [
        {
          "output_type": "stream",
          "name": "stdout",
          "text": [
            "Reservation approved at time 0.002\n",
            "\tend1 app received memory 24 ENTANGLED at time 1.10054311251\n",
            "\tend1 app received memory 21 ENTANGLED at time 1.21311387501\n",
            "\tend1 app received memory 5 ENTANGLED at time 1.28664421251\n",
            "\tend1 app received memory 24 ENTANGLED at time 1.36143086251\n",
            "\tend1 app received memory 11 ENTANGLED at time 1.46899400001\n",
            "\tend1 app received memory 18 ENTANGLED at time 1.53627808751\n",
            "\tend1 app received memory 0 ENTANGLED at time 1.60830590001\n",
            "\tend1 app received memory 8 ENTANGLED at time 1.68661782501\n",
            "\tend1 app received memory 16 ENTANGLED at time 1.75838168751\n",
            "\tend1 app received memory 2 ENTANGLED at time 1.86771640001\n",
            "\tend1 app received memory 23 ENTANGLED at time 1.98500545001\n",
            "Reservation approved at time 2.002\n",
            "\tend1 app received memory 0 ENTANGLED at time 3.13431710001\n",
            "\tend1 app received memory 10 ENTANGLED at time 3.2488801500099997\n",
            "\tend1 app received memory 6 ENTANGLED at time 3.31741298751\n",
            "\tend1 app received memory 16 ENTANGLED at time 3.41621491251\n",
            "\tend1 app received memory 8 ENTANGLED at time 3.46823511251\n",
            "\tend1 app received memory 22 ENTANGLED at time 3.57253441251\n",
            "\tend1 app received memory 1 ENTANGLED at time 3.69684882501\n",
            "\tend1 app received memory 23 ENTANGLED at time 3.7704044625099997\n",
            "\tend1 app received memory 10 ENTANGLED at time 3.87996006251\n",
            "\tend1 app received memory 1 ENTANGLED at time 3.95574417501\n",
            "Reservation approved at time 4.002\n",
            "\tend1 app received memory 16 ENTANGLED at time 5.07253543751\n",
            "\tend1 app received memory 23 ENTANGLED at time 5.14057081251\n",
            "\tend1 app received memory 4 ENTANGLED at time 5.23311375001\n",
            "\tend1 app received memory 22 ENTANGLED at time 5.29840050001\n",
            "\tend1 app received memory 4 ENTANGLED at time 5.40470230001\n",
            "\tend1 app received memory 10 ENTANGLED at time 5.45897628751\n",
            "\tend1 app received memory 1 ENTANGLED at time 5.54253445001\n",
            "\tend1 app received memory 9 ENTANGLED at time 5.64808748751\n",
            "\tend1 app received memory 3 ENTANGLED at time 5.73937157501\n",
            "\tend1 app received memory 18 ENTANGLED at time 5.81566835001\n",
            "\tend1 app received memory 3 ENTANGLED at time 5.8764372500099995\n",
            "\tend1 app received memory 5 ENTANGLED at time 5.96023147501\n",
            "Reservation approved at time 6.002\n",
            "\tend1 app received memory 23 ENTANGLED at time 7.09754800001\n",
            "\tend1 app received memory 9 ENTANGLED at time 7.17958590001\n",
            "\tend1 app received memory 10 ENTANGLED at time 7.25461116251\n",
            "\tend1 app received memory 1 ENTANGLED at time 7.31541038751\n",
            "\tend1 app received memory 18 ENTANGLED at time 7.41695592501\n",
            "\tend1 app received memory 18 ENTANGLED at time 7.52301152501\n",
            "\tend1 app received memory 12 ENTANGLED at time 7.5945570375099996\n",
            "\tend1 app received memory 4 ENTANGLED at time 7.70336636251\n",
            "\tend1 app received memory 14 ENTANGLED at time 7.78640168751\n",
            "\tend1 app received memory 4 ENTANGLED at time 7.87194467501\n",
            "\tend1 app received memory 20 ENTANGLED at time 7.9567515125099995\n",
            "Reservation approved at time 8.002\n",
            "\tend1 app received memory 24 ENTANGLED at time 9.11504313751\n",
            "\tend1 app received memory 0 ENTANGLED at time 9.17982220001\n",
            "\tend1 app received memory 20 ENTANGLED at time 9.25235757501\n",
            "\tend1 app received memory 20 ENTANGLED at time 9.32489292501\n",
            "\tend1 app received memory 21 ENTANGLED at time 9.39594093751\n",
            "\tend1 app received memory 10 ENTANGLED at time 9.48998898751\n",
            "\tend1 app received memory 9 ENTANGLED at time 9.55627058751\n",
            "\tend1 app received memory 24 ENTANGLED at time 9.63756221251\n",
            "\tend1 app received memory 5 ENTANGLED at time 9.70483880001\n",
            "\tend1 app received memory 4 ENTANGLED at time 9.80315316251\n",
            "\tend1 app received memory 20 ENTANGLED at time 9.86666586251\n",
            "\tend1 app received memory 9 ENTANGLED at time 9.93747770001\n"
          ]
        }
      ]
    }
  ]
}