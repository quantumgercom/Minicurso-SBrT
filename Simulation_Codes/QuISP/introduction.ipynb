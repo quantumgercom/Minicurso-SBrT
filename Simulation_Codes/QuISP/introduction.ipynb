{
 "cells": [
  {
   "cell_type": "markdown",
   "metadata": {},
   "source": [
    "# Introduction"
   ]
  },
  {
   "cell_type": "markdown",
   "metadata": {},
   "source": [
    "### Primeiro vamos importar as bibliotecas necessárias"
   ]
  },
  {
   "cell_type": "code",
   "execution_count": 1,
   "metadata": {},
   "outputs": [],
   "source": [
    "from quisp import QuispWidget, QNode, Network, ChannelOption, LinkType\n",
    "from config import Config\n",
    "from time import sleep"
   ]
  },
  {
   "cell_type": "markdown",
   "metadata": {},
   "source": [
    "### Definição básica da rede"
   ]
  },
  {
   "cell_type": "code",
   "execution_count": 2,
   "metadata": {},
   "outputs": [],
   "source": [
    "# Definindo o Nome da rede\n",
    "network_name = 'Gercom'\n",
    "\n",
    "# Definindo as configurações desejadas\n",
    "conf = Config(network_name=network_name)\n",
    "\n",
    "# Instanciando o simulador\n",
    "simulator = QuispWidget()"
   ]
  },
  {
   "cell_type": "markdown",
   "metadata": {},
   "source": [
    "### Simulação visual"
   ]
  },
  {
   "cell_type": "code",
   "execution_count": null,
   "metadata": {},
   "outputs": [],
   "source": [
    "# Colocando o simulador na tela\n",
    "display(simulator)"
   ]
  },
  {
   "cell_type": "markdown",
   "metadata": {},
   "source": [
    "### Iniciando a rede e suas opções"
   ]
  },
  {
   "cell_type": "code",
   "execution_count": 4,
   "metadata": {},
   "outputs": [],
   "source": [
    "# Iniciando a nossa rede\n",
    "network = Network(network_name)\n",
    "\n",
    "# Iniciando as opções dos canais\n",
    "channel_opt1 = ChannelOption(quantum_channel_distance=10, classical_channel_distance=10, link_type=LinkType.MIM)\n",
    "channel_opt2 = ChannelOption(quantum_channel_distance=10, classical_channel_distance=10, link_type=LinkType.MM)"
   ]
  },
  {
   "cell_type": "markdown",
   "metadata": {},
   "source": [
    "### Configuração dos nós e conexão deles"
   ]
  },
  {
   "cell_type": "code",
   "execution_count": 5,
   "metadata": {},
   "outputs": [],
   "source": [
    "# Com os testes percebemos que deveria haver um delay de uns 5 segundos para a simulação carregar corretamente\n",
    "# sleep(5)\n",
    "\n",
    "# Aqui definimos todos os nós desejados e o nó referência\n",
    "qnode1 = QNode(name=\"qnode1\", network=network, is_initiator = True)\n",
    "qnode2 = QNode(name=\"qnode2\", network=network)\n",
    "qnode3 = QNode(name=\"qnode3\", network=network)\n",
    "qnode4 = QNode(name=\"qnode4\", network=network)\n",
    "\n",
    "# Aqui é a área de conexão dos nós e opções de conexões\n",
    "# Temos a conexão MIM e MM, a primeira haverá um dispositivo de interferência e a segunda não\n",
    "qnode1.connect(qnode2)\n",
    "qnode2.connect(qnode3, option=channel_opt2)\n",
    "qnode3.connect(qnode4, ChannelOption(link_type=LinkType.MIM, quantum_channel_distance=5))\n",
    "qnode4.connect(qnode1, option=channel_opt1)\n",
    "\n",
    "# Aqui carregará as mudanças para o simulador em execução\n",
    "simulator.load(network, config=conf)"
   ]
  },
  {
   "cell_type": "markdown",
   "metadata": {},
   "source": [
    "### Rodando a simulação"
   ]
  },
  {
   "cell_type": "code",
   "execution_count": 6,
   "metadata": {},
   "outputs": [],
   "source": [
    "# Damos 5 segundos para todas as mudanças serem carregadas e depois rodamos a simulação\n",
    "# sleep(5)\n",
    "simulator.run()"
   ]
  },
  {
   "cell_type": "markdown",
   "metadata": {},
   "source": [
    "### Informações internas da rede"
   ]
  },
  {
   "cell_type": "code",
   "execution_count": null,
   "metadata": {},
   "outputs": [],
   "source": [
    "# Mostrando as saídas da rede\n",
    "print(network.dump())"
   ]
  },
  {
   "cell_type": "markdown",
   "metadata": {},
   "source": [
    "### Aqui irá ser onde observaremos os resultados das simulações"
   ]
  },
  {
   "cell_type": "code",
   "execution_count": null,
   "metadata": {},
   "outputs": [],
   "source": [
    "simulator.readResult()\n",
    "f\"result: {len(simulator.jsonl)} lines\" if simulator.jsonl is not None else \"no result\""
   ]
  },
  {
   "cell_type": "code",
   "execution_count": null,
   "metadata": {},
   "outputs": [],
   "source": [
    "print(simulator.output)"
   ]
  }
 ],
 "metadata": {
  "kernelspec": {
   "display_name": "Python 3 (ipykernel)",
   "language": "python",
   "name": "python3"
  },
  "language_info": {
   "codemirror_mode": {
    "name": "ipython",
    "version": 3
   },
   "file_extension": ".py",
   "mimetype": "text/x-python",
   "name": "python",
   "nbconvert_exporter": "python",
   "pygments_lexer": "ipython3",
   "version": "3.10.12"
  },
  "vscode": {
   "interpreter": {
    "hash": "07ba10bba8e4817f686014effd6423e126cef7a174ca79d558d24ff56c971298"
   }
  }
 },
 "nbformat": 4,
 "nbformat_minor": 4
}
