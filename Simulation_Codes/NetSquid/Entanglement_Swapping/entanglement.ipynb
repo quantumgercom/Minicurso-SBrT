{
 "cells": [
  {
   "cell_type": "markdown",
   "metadata": {},
   "source": [
    "Este exemplo é baseado no exemplo já existente do próprio simulador do Netsquid. Entretanto, esse código passou por algumas alterações para fins de melhor compreensão"
   ]
  },
  {
   "cell_type": "markdown",
   "metadata": {},
   "source": [
    "### Importando todas as bibliotecas necessárias"
   ]
  },
  {
   "cell_type": "code",
   "execution_count": null,
   "metadata": {},
   "outputs": [],
   "source": [
    "import netsquid as ns\n",
    "from netsquid.examples.entanglenodes import example_network_setup, EntangleNodes\n",
    "from matplotlib import pyplot as plt\n",
    "print(f\"Este exemplo está localizado em: {ns.examples.entanglenodes.__file__}\")"
   ]
  },
  {
   "cell_type": "markdown",
   "metadata": {},
   "source": [
    "### Criando a classe do simulador"
   ]
  },
  {
   "cell_type": "code",
   "execution_count": null,
   "metadata": {},
   "outputs": [],
   "source": [
    "class Simulation:\n",
    "    def __init__(self, prep_delay: int = 5, qchannel_delay:int = 100,\n",
    "                  num_mem_positions: int = 3) -> None:\n",
    "        self.fidelity = 0.0\n",
    "        self.network = example_network_setup(prep_delay=prep_delay, qchannel_delay=qchannel_delay,\n",
    "                                              num_mem_positions=num_mem_positions)\n",
    "        self.protocol_a = EntangleNodes(node=self.network.subcomponents[\n",
    "            \"node_A\"], role=\"source\")\n",
    "        self.protocol_b = EntangleNodes(node=self.network.subcomponents[\n",
    "            \"node_B\"], role=\"receiver\")\n",
    "\n",
    "    def startSimulation(self) -> None:\n",
    "        \"\"\"\n",
    "        Irá iniciar a simulação desejada\n",
    "        \"\"\"\n",
    "        self.protocol_a.start()\n",
    "        self.protocol_b.start()\n",
    "        ns.sim_run()\n",
    "\n",
    "    def collectFidelity(self) -> None:\n",
    "        \"\"\"\n",
    "        Irá coletar os dados da fidelidade que será analisada\n",
    "        \"\"\"\n",
    "        self.q1, = self.network.subcomponents[\"node_A\"].qmemory.peek(0)\n",
    "        self.q2, = self.network.subcomponents[\"node_B\"].qmemory.peek(0)\n",
    "        self.fidelity = ns.qubits.fidelity([self.q1, self.q2], ns.b00)\n",
    "        print(f\"Fidelity of generated entanglement: {self.fidelity}\")\n",
    "\n",
    "    def returnFidelity(self) -> float:\n",
    "        return self.fidelity"
   ]
  },
  {
   "cell_type": "markdown",
   "metadata": {},
   "source": [
    "### Criando a classe que irá mostrar os gráficos de fidelidade"
   ]
  },
  {
   "cell_type": "code",
   "execution_count": null,
   "metadata": {},
   "outputs": [],
   "source": [
    "class Graphic:\n",
    "    def __init__(self, simulation: Simulation, data_file_name: str = 'fidelitydata.txt') -> None:\n",
    "        self.fidelity_axis = []\n",
    "        self.data_count = 0\n",
    "        self.y_label = 'Fidelity'\n",
    "        self.x_label = 'Execution number'\n",
    "        self.file_name = data_file_name\n",
    "        self.fidelity = simulation.returnFidelity()\n",
    "\n",
    "\n",
    "    def testFile(self, create_file: bool=True) -> bool:\n",
    "        try:\n",
    "            with open(self.file_name, 'r') as file:\n",
    "                return True\n",
    "            \n",
    "        except:\n",
    "            if create_file:\n",
    "                with open(self.file_name, 'w+'):\n",
    "                    print(f'Nenhum arquivo encontrado. Criado o arquivo \"{self.file_name}\"')\n",
    "            return False\n",
    "    \n",
    "\n",
    "    def deleteData(self) -> None:\n",
    "        test = self.testFile(False)\n",
    "        if test:\n",
    "            with open(self.file_name, 'w') as file:\n",
    "                print(\"Dados apagados com sucesso\")\n",
    "                return\n",
    "            \n",
    "        print(\"Sem dados para apagar\")\n",
    "\n",
    "    def readDataCollector(self) -> None:\n",
    "        test = self.testFile()\n",
    "        if test:\n",
    "            with open(self.file_name, 'r') as file:\n",
    "                temp_list = []\n",
    "                temp_count = 0\n",
    "                for line in file:\n",
    "                    if line != None:\n",
    "                        temp_list.append(float(line.replace('\\n', '')))\n",
    "                        temp_count += 1\n",
    "                self.fidelity_axis = temp_list\n",
    "                self.data_count = temp_count\n",
    "                return\n",
    "        \n",
    "        print('Nenhum dado existente')\n",
    "        return\n",
    "    \n",
    "        \n",
    "    def addOnDataCollector(self) -> None:\n",
    "        self.testFile()\n",
    "        with open(self.file_name, '+a') as file:\n",
    "            file.write(f'{self.fidelity}\\n')\n",
    "            \n",
    "    \n",
    "    def printData(self) -> None:\n",
    "        test = self.testFile()\n",
    "        if test:\n",
    "            print(\"Os dados são: \")\n",
    "            with open(self.file_name, 'r') as file:\n",
    "                for line in file:\n",
    "                    print(line)\n",
    "                return\n",
    "        \n",
    "        print(\"Nenhum dado pôde ser imprimido\")\n",
    "        return\n",
    "\n",
    "\n",
    "    def generateGraph(self) -> None:\n",
    "        plt.plot(self.fidelity_axis, scalex=self.data_count)\n",
    "        plt.ylabel(self.y_label)\n",
    "        plt.xlabel(self.x_label)\n",
    "        plt.show()\n"
   ]
  },
  {
   "cell_type": "markdown",
   "metadata": {},
   "source": [
    "### Rodando o simulador"
   ]
  },
  {
   "cell_type": "code",
   "execution_count": null,
   "metadata": {},
   "outputs": [],
   "source": [
    "simulator = Simulation(prep_delay=5, qchannel_delay=100, num_mem_positions=3)\n",
    "simulator.startSimulation()\n",
    "simulator.collectFidelity()\n",
    "graphic = Graphic(simulation=simulator)\n",
    "graphic.addOnDataCollector()\n",
    "resp = input(\"Você gostaria de observar o gráfico dos dados? [s/n] \").split()\n",
    "if resp[0] in 'Ss':\n",
    "    graphic.readDataCollector()\n",
    "    graphic.generateGraph()\n",
    "    graphic.printData()\n",
    "    resp = input(\"Deseja apagar todos os dados salvos? [s/n] \").split()\n",
    "    if resp[0] in 'sS':\n",
    "        graphic.deleteData()\n",
    "\n",
    "else:\n",
    "    print(\"Simulação finalizada com sucesso\")\n"
   ]
  }
 ],
 "metadata": {
  "kernelspec": {
   "display_name": ".venv",
   "language": "python",
   "name": "python3"
  },
  "language_info": {
   "codemirror_mode": {
    "name": "ipython",
    "version": 3
   },
   "file_extension": ".py",
   "mimetype": "text/x-python",
   "name": "python",
   "nbconvert_exporter": "python",
   "pygments_lexer": "ipython3",
   "version": "3.10.12"
  }
 },
 "nbformat": 4,
 "nbformat_minor": 2
}
