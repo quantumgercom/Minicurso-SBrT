{
  "nbformat": 4,
  "nbformat_minor": 0,
  "metadata": {
    "colab": {
      "provenance": []
    },
    "kernelspec": {
      "name": "python3",
      "display_name": "Python 3"
    },
    "language_info": {
      "name": "python"
    }
  },
  "cells": [
    {
      "cell_type": "code",
      "execution_count": 1,
      "metadata": {
        "id": "LjlqI4FMjOcO"
      },
      "outputs": [],
      "source": [
        "!pip install -q sequence\n",
        "!pip install -q matplotlib\n",
        "!pip install -q ipywidgets"
      ]
    },
    {
      "cell_type": "code",
      "source": [
        "def NewNetworkManager(owner: \"QuantumRouter\") -> \"NetworkManager\":\n",
        "    manager = NetworkManager(owner, [])\n",
        "    routing = StaticRoutingProtocol(owner, owner.name + \".StaticRoutingProtocol\", {})\n",
        "    rsvp = ResourceReservationProtocol(owner, owner.name + \".RSVP\")\n",
        "    routing.upper_protocols.append(rsvp)\n",
        "    rsvp.lower_protocols.append(routing)\n",
        "    manager.load_stack([routing, rsvp])\n",
        "    return manager"
      ],
      "metadata": {
        "id": "fJyZchZgkF3H"
      },
      "execution_count": 2,
      "outputs": []
    },
    {
      "cell_type": "code",
      "source": [
        "from sequence.topology.router_net_topo import RouterNetTopo\n",
        "\n",
        "\n",
        "network_config = \"2.json\"\n",
        "network_topo = RouterNetTopo(network_config)\n",
        "tl = network_topo.get_timeline()"
      ],
      "metadata": {
        "colab": {
          "base_uri": "https://localhost:8080/"
        },
        "id": "4BBD9H0DkwX0",
        "outputId": "2be9e1e1-d5a3-4473-9d6e-b6a4d0fca76b"
      },
      "execution_count": 3,
      "outputs": [
        {
          "output_type": "stream",
          "name": "stderr",
          "text": [
            "/usr/local/lib/python3.10/dist-packages/qutip/__init__.py:66: UserWarning: The new version of Cython, (>= 3.0.0) is not supported.\n",
            "  warnings.warn(\n"
          ]
        }
      ]
    },
    {
      "cell_type": "code",
      "source": [
        "def set_parameters(topology: RouterNetTopo):\n",
        "    # set memory parameters\n",
        "    MEMO_FREQ = 2e3\n",
        "    MEMO_EXPIRE = 0\n",
        "    MEMO_EFFICIENCY = 1\n",
        "    MEMO_FIDELITY = 0.9049367588934053\n",
        "    for node in topology.get_nodes_by_type(RouterNetTopo.QUANTUM_ROUTER):\n",
        "        memory_array = node.get_components_by_type(\"MemoryArray\")[0]\n",
        "        memory_array.update_memory_params(\"frequency\", MEMO_FREQ)\n",
        "        memory_array.update_memory_params(\"coherence_time\", MEMO_EXPIRE)\n",
        "        memory_array.update_memory_params(\"efficiency\", MEMO_EFFICIENCY)\n",
        "        memory_array.update_memory_params(\"raw_fidelity\", MEMO_FIDELITY)\n",
        "\n",
        "    # set detector parameters\n",
        "    DETECTOR_EFFICIENCY = 0.9\n",
        "    DETECTOR_COUNT_RATE = 5e7\n",
        "    DETECTOR_RESOLUTION = 100\n",
        "    for node in topology.get_nodes_by_type(RouterNetTopo.BSM_NODE):\n",
        "        bsm = node.get_components_by_type(\"SingleAtomBSM\")[0]\n",
        "        bsm.update_detectors_params(\"efficiency\", DETECTOR_EFFICIENCY)\n",
        "        bsm.update_detectors_params(\"count_rate\", DETECTOR_COUNT_RATE)\n",
        "        bsm.update_detectors_params(\"time_resolution\", DETECTOR_RESOLUTION)\n",
        "    # set entanglement swapping parameters\n",
        "    SWAP_SUCC_PROB = 0.7\n",
        "    SWAP_DEGRADATION = 0.99\n",
        "    for node in topology.get_nodes_by_type(RouterNetTopo.QUANTUM_ROUTER):\n",
        "        node.network_manager.protocol_stack[1].set_swapping_success_rate(SWAP_SUCC_PROB)\n",
        "        node.network_manager.protocol_stack[1].set_swapping_degradation(SWAP_DEGRADATION)\n",
        "\n",
        "    # set quantum channel parameters\n",
        "    ATTENUATION = 1e-5\n",
        "    QC_FREQ = 1e11\n",
        "    for qc in topology.get_qchannels():\n",
        "        qc.attenuation = ATTENUATION\n",
        "        qc.frequency = QC_FREQ"
      ],
      "metadata": {
        "id": "gVKRiApalAJa"
      },
      "execution_count": 4,
      "outputs": []
    },
    {
      "cell_type": "code",
      "source": [
        "set_parameters(network_topo)\n"
      ],
      "metadata": {
        "id": "lxRKLvQAlDP7"
      },
      "execution_count": 5,
      "outputs": []
    },
    {
      "cell_type": "code",
      "source": [
        "# the start and end nodes may be edited as desired\n",
        "start_node_name = \"end1\"\n",
        "end_node_name = \"end2\"\n",
        "node1 = node2 = None\n",
        "\n",
        "for router in network_topo.get_nodes_by_type(RouterNetTopo.QUANTUM_ROUTER):\n",
        "    if router.name == start_node_name:\n",
        "        node1 = router\n",
        "    elif router.name == end_node_name:\n",
        "        node2 = router\n",
        "\n",
        "nm = node1.network_manager\n",
        "nm.request(end_node_name, start_time=1e12, end_time=10e12, memory_size=10, target_fidelity=0.9)\n",
        "\n",
        "tl.init()\n",
        "tl.run()\n",
        "\n",
        "print(node1, \"memories\")\n",
        "print(\"Index:\\tEntangled Node:\\tFidelity:\\tEntanglement Time:\")\n",
        "for info in node1.resource_manager.memory_manager:\n",
        "\t\tprint(\"{:6}\\t{:15}\\t{:9}\\t{}\".format(str(info.index),\n",
        "                                         str(info.remote_node),\n",
        "                                         str(info.fidelity),\n",
        "                                         str(info.entangle_time * 1e-12)))\n"
      ],
      "metadata": {
        "colab": {
          "base_uri": "https://localhost:8080/"
        },
        "id": "9SbLNwavlHAz",
        "outputId": "5cab8393-ef90-4d4c-8a90-11125f280ea0"
      },
      "execution_count": 6,
      "outputs": [
        {
          "output_type": "stream",
          "name": "stdout",
          "text": [
            "end1 memories\n",
            "Index:\tEntangled Node:\tFidelity:\tEntanglement Time:\n",
            "0     \tend2           \t0.912173610973409\t1.37393125147\n",
            "1     \tend2           \t0.912173610973409\t1.99534750287\n",
            "2     \tend2           \t0.912173610973409\t1.67300125205\n",
            "3     \tend2           \t0.912173610973409\t1.30040375128\n",
            "4     \tNone           \t0        \t-1e-12\n",
            "5     \tNone           \t0        \t-1e-12\n",
            "6     \tend2           \t0.912173610973409\t1.10304750046\n",
            "7     \tend2           \t0.912173610973409\t1.32565750128\n",
            "8     \tcenter         \t0.9049367588934053\t1.99885000289\n",
            "9     \tend2           \t0.912173610973409\t1.05478125025\n",
            "10    \tNone           \t0        \t-1e-12\n",
            "11    \tNone           \t0        \t-1e-12\n",
            "12    \tNone           \t0        \t-1e-12\n",
            "13    \tNone           \t0        \t-1e-12\n",
            "14    \tNone           \t0        \t-1e-12\n",
            "15    \tNone           \t0        \t-1e-12\n",
            "16    \tNone           \t0        \t-1e-12\n",
            "17    \tNone           \t0        \t-1e-12\n",
            "18    \tNone           \t0        \t-1e-12\n",
            "19    \tNone           \t0        \t-1e-12\n",
            "20    \tNone           \t0        \t-1e-12\n",
            "21    \tNone           \t0        \t-1e-12\n",
            "22    \tNone           \t0        \t-1e-12\n",
            "23    \tNone           \t0        \t-1e-12\n",
            "24    \tNone           \t0        \t-1e-12\n",
            "25    \tNone           \t0        \t-1e-12\n",
            "26    \tNone           \t0        \t-1e-12\n",
            "27    \tNone           \t0        \t-1e-12\n",
            "28    \tNone           \t0        \t-1e-12\n",
            "29    \tNone           \t0        \t-1e-12\n",
            "30    \tNone           \t0        \t-1e-12\n",
            "31    \tNone           \t0        \t-1e-12\n",
            "32    \tNone           \t0        \t-1e-12\n",
            "33    \tNone           \t0        \t-1e-12\n",
            "34    \tNone           \t0        \t-1e-12\n",
            "35    \tNone           \t0        \t-1e-12\n",
            "36    \tNone           \t0        \t-1e-12\n",
            "37    \tNone           \t0        \t-1e-12\n",
            "38    \tNone           \t0        \t-1e-12\n",
            "39    \tNone           \t0        \t-1e-12\n",
            "40    \tNone           \t0        \t-1e-12\n",
            "41    \tNone           \t0        \t-1e-12\n",
            "42    \tNone           \t0        \t-1e-12\n",
            "43    \tNone           \t0        \t-1e-12\n",
            "44    \tNone           \t0        \t-1e-12\n",
            "45    \tNone           \t0        \t-1e-12\n",
            "46    \tNone           \t0        \t-1e-12\n",
            "47    \tNone           \t0        \t-1e-12\n",
            "48    \tNone           \t0        \t-1e-12\n",
            "49    \tNone           \t0        \t-1e-12\n"
          ]
        }
      ]
    }
  ]
}