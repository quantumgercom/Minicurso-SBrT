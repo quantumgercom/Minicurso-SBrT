{
 "cells": [
  {
   "cell_type": "markdown",
   "metadata": {},
   "source": [
    "Importando as bibliotecas iniciais"
   ]
  },
  {
   "cell_type": "code",
   "execution_count": null,
   "metadata": {},
   "outputs": [],
   "source": [
    "import netsquid as ns\n",
    "import matplotlib.pyplot as plt\n",
    "from Default_Setup.setups import networkSetup\n",
    "from netsquid.examples.teleportation import example_sim_setup"
   ]
  },
  {
   "cell_type": "markdown",
   "metadata": {},
   "source": [
    "Criando a classe do simulador"
   ]
  },
  {
   "cell_type": "code",
   "execution_count": null,
   "metadata": {},
   "outputs": [],
   "source": [
    "class Simulation:\n",
    "    def __init__(self, node_distance: float = 4e-3, depolarization_rate: float = 0, dephasing_rate: float = 0) -> None:\n",
    "        # Criando a rede\n",
    "        self.network = networkSetup(node_distance=node_distance, depolarization_rate=depolarization_rate, \n",
    "                               dephasing_rate=dephasing_rate)\n",
    "        # Criando os nós de Alice e Bob\n",
    "        self.node_a = self.network.get_node(\"Alice\")\n",
    "        self.node_b = self.network.get_node(\"Bob\")\n",
    "        # Gerando os protocolos de Alice e Bob e criando um coletor de fidelidade\n",
    "        self.protocol_alice, self.protocol_bob, self.dc = example_sim_setup(self.node_a, self.node_b)\n",
    "        self.protocol_alice.start()\n",
    "        self.protocol_bob.start()\n",
    "\n",
    "    def creatQuantumConnection(self, label: str = \"quantum\") -> None:\n",
    "        # Criando um canal quântico\n",
    "        self.quantum_connection = self.network.get_connection(self.node_a, self.node_b, label=label)\n",
    "        self.cycle_runtime = (self.quantum_connection.subcomponents[\"qsource\"].subcomponents[\"internal_clock\"]\n",
    "                 .models[\"timing_model\"].delay)\n",
    "        \n",
    "    def runSimulation(self, cycle_times: int = 100) -> None:\n",
    "        # Rodando o simulador\n",
    "        ns.sim_run(self.cycle_runtime * cycle_times)\n",
    "        self.fidelity = self.dc.dataframe['fidelity'].mean()\n",
    "        print(f\"A fidelidade do protocolo de teletrasporte foi de: {self.fidelity:.3f}\")\n",
    "\n",
    "    def returnFidelity(self) -> float:\n",
    "        return self.fidelity\n",
    "\n",
    "\n",
    "print(f\"This example module is located at: {ns.examples.teleportation.__file__}\")"
   ]
  },
  {
   "cell_type": "markdown",
   "metadata": {},
   "source": [
    "Criando um gerador de gráfico"
   ]
  },
  {
   "cell_type": "code",
   "execution_count": null,
   "metadata": {},
   "outputs": [],
   "source": [
    "class Graphic:\n",
    "    def __init__(self, simulation: Simulation, data_file_name: str = 'fidelitydata.txt') -> None:\n",
    "        self.fidelity_axis = []\n",
    "        self.data_count = 0\n",
    "        self.y_label = 'Fidelity'\n",
    "        self.x_label = 'Execution number'\n",
    "        self.file_name = data_file_name\n",
    "        self.fidelity = simulation.returnFidelity()\n",
    "\n",
    "\n",
    "    def testFile(self, create_file: bool=True) -> bool:\n",
    "        try:\n",
    "            with open(self.file_name, 'r') as file:\n",
    "                return True\n",
    "            \n",
    "        except:\n",
    "            if create_file:\n",
    "                with open(self.file_name, 'w+'):\n",
    "                    print(f'Nenhum arquivo encontrado. Criado o arquivo \"{self.file_name}\"')\n",
    "            return False\n",
    "    \n",
    "\n",
    "    def deleteData(self) -> None:\n",
    "        test = self.testFile(False)\n",
    "        if test:\n",
    "            with open(self.file_name, 'w') as file:\n",
    "                print(\"Dados apagados com sucesso\")\n",
    "                return\n",
    "            \n",
    "        print(\"Sem dados para apagar\")\n",
    "\n",
    "    def readDataCollector(self) -> None:\n",
    "        test = self.testFile()\n",
    "        if test:\n",
    "            with open(self.file_name, 'r') as file:\n",
    "                temp_list = []\n",
    "                temp_count = 0\n",
    "                for line in file:\n",
    "                    if line != None:\n",
    "                        temp_list.append(float(line.replace('\\n', '')))\n",
    "                        temp_count += 1\n",
    "                self.fidelity_axis = temp_list\n",
    "                self.data_count = temp_count\n",
    "                return\n",
    "        \n",
    "        print('Nenhum dado existente')\n",
    "        return\n",
    "    \n",
    "        \n",
    "    def addOnDataCollector(self) -> None:\n",
    "        self.testFile()\n",
    "        with open(self.file_name, '+a') as file:\n",
    "            file.write(f'{self.fidelity}\\n')\n",
    "            \n",
    "    \n",
    "    def printData(self) -> None:\n",
    "        test = self.testFile()\n",
    "        if test:\n",
    "            print(\"Os dados são: \")\n",
    "            with open(self.file_name, 'r') as file:\n",
    "                for line in file:\n",
    "                    print(line)\n",
    "                return\n",
    "        \n",
    "        print(\"Nenhum dado pôde ser imprimido\")\n",
    "        return\n",
    "\n",
    "\n",
    "    def generateGraph(self) -> None:\n",
    "        plt.plot(self.fidelity_axis, scalex=self.data_count)\n",
    "        plt.ylabel(self.y_label)\n",
    "        plt.xlabel(self.x_label)\n",
    "        plt.show()\n",
    "\n",
    "\n"
   ]
  },
  {
   "cell_type": "markdown",
   "metadata": {},
   "source": [
    "Parâmetros do simulador"
   ]
  },
  {
   "cell_type": "code",
   "execution_count": null,
   "metadata": {},
   "outputs": [],
   "source": [
    "simulator = Simulation(4e-3, 1e7, 0.2)\n",
    "simulator.creatQuantumConnection()\n",
    "simulator.runSimulation()\n",
    "graphic = Graphic(simulation=simulator)\n",
    "graphic.addOnDataCollector()\n",
    "resp = input(\"Você gostaria de observar o gráfico dos dados? [s/n] \").split()\n",
    "if resp[0] in 'Ss':\n",
    "    graphic.readDataCollector()\n",
    "    graphic.generateGraph()\n",
    "    graphic.printData()\n",
    "    resp = input(\"Deseja apagar todos os dados salvos? [s/n] \").split()\n",
    "    if resp[0] in 'sS':\n",
    "        graphic.deleteData()\n",
    "\n",
    "else:\n",
    "    print(\"Simulação finalizada com sucesso\")\n"
   ]
  }
 ],
 "metadata": {
  "kernelspec": {
   "display_name": ".venv",
   "language": "python",
   "name": "python3"
  },
  "language_info": {
   "codemirror_mode": {
    "name": "ipython",
    "version": 3
   },
   "file_extension": ".py",
   "mimetype": "text/x-python",
   "name": "python",
   "nbconvert_exporter": "python",
   "pygments_lexer": "ipython3",
   "version": "3.10.12"
  }
 },
 "nbformat": 4,
 "nbformat_minor": 2
}
