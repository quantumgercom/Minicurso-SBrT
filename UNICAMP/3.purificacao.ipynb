{
  "nbformat": 4,
  "nbformat_minor": 0,
  "metadata": {
    "colab": {
      "provenance": []
    },
    "kernelspec": {
      "name": "python3",
      "display_name": "Python 3"
    },
    "language_info": {
      "name": "python"
    }
  },
  "cells": [
    {
      "cell_type": "code",
      "execution_count": 2,
      "metadata": {
        "colab": {
          "base_uri": "https://localhost:8080/"
        },
        "id": "w7EXxJOT83ng",
        "outputId": "2a3d3e48-a051-4a2b-f2aa-273d018d08c1"
      },
      "outputs": [
        {
          "output_type": "stream",
          "name": "stdout",
          "text": [
            "\u001b[2K     \u001b[90m━━━━━━━━━━━━━━━━━━━━━━━━━━━━━━━━━━━━━━━━\u001b[0m \u001b[32m60.4/60.4 kB\u001b[0m \u001b[31m3.1 MB/s\u001b[0m eta \u001b[36m0:00:00\u001b[0m\n",
            "\u001b[2K     \u001b[90m━━━━━━━━━━━━━━━━━━━━━━━━━━━━━━━━━━━━━━━━\u001b[0m \u001b[32m4.0/4.0 MB\u001b[0m \u001b[31m29.9 MB/s\u001b[0m eta \u001b[36m0:00:00\u001b[0m\n",
            "\u001b[?25h  Preparing metadata (setup.py) ... \u001b[?25l\u001b[?25hdone\n",
            "\u001b[2K   \u001b[90m━━━━━━━━━━━━━━━━━━━━━━━━━━━━━━━━━━━━━━━━\u001b[0m \u001b[32m153.1/153.1 kB\u001b[0m \u001b[31m11.8 MB/s\u001b[0m eta \u001b[36m0:00:00\u001b[0m\n",
            "\u001b[2K   \u001b[90m━━━━━━━━━━━━━━━━━━━━━━━━━━━━━━━━━━━━━━━━\u001b[0m \u001b[32m16.3/16.3 MB\u001b[0m \u001b[31m74.5 MB/s\u001b[0m eta \u001b[36m0:00:00\u001b[0m\n",
            "\u001b[2K   \u001b[90m━━━━━━━━━━━━━━━━━━━━━━━━━━━━━━━━━━━━━━━━\u001b[0m \u001b[32m36.4/36.4 MB\u001b[0m \u001b[31m12.7 MB/s\u001b[0m eta \u001b[36m0:00:00\u001b[0m\n",
            "\u001b[2K   \u001b[90m━━━━━━━━━━━━━━━━━━━━━━━━━━━━━━━━━━━━━━━━\u001b[0m \u001b[32m7.8/7.8 MB\u001b[0m \u001b[31m66.9 MB/s\u001b[0m eta \u001b[36m0:00:00\u001b[0m\n",
            "\u001b[2K   \u001b[90m━━━━━━━━━━━━━━━━━━━━━━━━━━━━━━━━━━━━━━━━\u001b[0m \u001b[32m222.5/222.5 kB\u001b[0m \u001b[31m14.1 MB/s\u001b[0m eta \u001b[36m0:00:00\u001b[0m\n",
            "\u001b[2K   \u001b[90m━━━━━━━━━━━━━━━━━━━━━━━━━━━━━━━━━━━━━━━━\u001b[0m \u001b[32m228.0/228.0 kB\u001b[0m \u001b[31m15.9 MB/s\u001b[0m eta \u001b[36m0:00:00\u001b[0m\n",
            "\u001b[?25h  Building wheel for dash-cytoscape (setup.py) ... \u001b[?25l\u001b[?25hdone\n",
            "\u001b[2K   \u001b[90m━━━━━━━━━━━━━━━━━━━━━━━━━━━━━━━━━━━━━━━━\u001b[0m \u001b[32m1.6/1.6 MB\u001b[0m \u001b[31m27.0 MB/s\u001b[0m eta \u001b[36m0:00:00\u001b[0m\n",
            "\u001b[?25h"
          ]
        }
      ],
      "source": [
        "!pip install -q sequence\n",
        "!pip install -q matplotlib\n",
        "!pip install -q ipywidgets"
      ]
    },
    {
      "cell_type": "code",
      "source": [
        "from sequence.entanglement_management.purification import BBPSSW\n",
        "from sequence.kernel.timeline import Timeline\n",
        "from sequence.topology.node import BSMNode\n",
        "from sequence.components.optical_channel import QuantumChannel, ClassicalChannel\n",
        "from sequence.topology.node import Node\n",
        "from sequence.components.memory import Memory\n",
        "from sequence.entanglement_management.generation import EntanglementGenerationA\n",
        "\n",
        "class SimpleManager:\n",
        "    def __init__(self, owner, kept_memo_name, meas_memo_name):\n",
        "        self.owner = owner\n",
        "        self.kept_memo_name = kept_memo_name\n",
        "        self.meas_memo_name = meas_memo_name\n",
        "        self.raw_counter = 0\n",
        "        self.ent_counter = 0\n",
        "\n",
        "    def update(self, protocol, memory, state):\n",
        "        if state == 'RAW':\n",
        "            self.raw_counter += 1\n",
        "            memory.reset()\n",
        "        else:\n",
        "            self.ent_counter += 1\n",
        "\n",
        "    def create_protocol(self):\n",
        "        kept_memo = self.owner.components[self.kept_memo_name]\n",
        "        meas_memo = self.owner.components[self.meas_memo_name]\n",
        "        self.owner.protocols = [BBPSSW(self.owner, 'purification_protocol', kept_memo, meas_memo)]\n",
        "\n",
        "\n",
        "class PurifyNode(Node):\n",
        "    def __init__(self, name: str, tl: Timeline):\n",
        "        super().__init__(name, tl)\n",
        "        kept_memo_name = '%s.kept_memo' % name\n",
        "        meas_memo_name = '%s.meas_memo' % name\n",
        "        kept_memo = Memory('%s.kept_memo' % name, tl, 0.9, 2000, 1, -1, 500)\n",
        "        meas_memo = Memory('%s.meas_memo' % name, tl, 0.9, 2000, 1, -1, 500)\n",
        "        self.add_component(kept_memo)\n",
        "        self.add_component(meas_memo)\n",
        "\n",
        "        self.resource_manager = SimpleManager(self, kept_memo_name, meas_memo_name)\n",
        "\n",
        "    def receive_message(self, src: str, msg: \"Message\") -> None:\n",
        "        self.protocols[0].received_message(src, msg)"
      ],
      "metadata": {
        "id": "Y3mnEiKH84Y1"
      },
      "execution_count": 6,
      "outputs": []
    },
    {
      "cell_type": "code",
      "source": [
        "tl = Timeline()\n",
        "\n",
        "node1 = PurifyNode('node1', tl)\n",
        "node2 = PurifyNode('node2', tl)\n",
        "node1.set_seed(0)\n",
        "node2.set_seed(1)\n",
        "\n",
        "cc0 = ClassicalChannel('cc0', tl, 1000, 1e9)\n",
        "cc1 = ClassicalChannel('cc1', tl, 1000, 1e9)\n",
        "cc0.set_ends(node1, node2.name)\n",
        "cc1.set_ends(node2, node1.name)"
      ],
      "metadata": {
        "id": "GxmXctRb9AsE"
      },
      "execution_count": 7,
      "outputs": []
    },
    {
      "cell_type": "code",
      "source": [
        "def entangle_memory(memo1: Memory, memo2: Memory, fidelity: float):\n",
        "    memo1.reset()\n",
        "    memo2.reset()\n",
        "\n",
        "    memo1.entangled_memory['node_id'] = memo2.owner.name\n",
        "    memo1.entangled_memory['memo_id'] = memo2.name\n",
        "    memo2.entangled_memory['node_id'] = memo1.owner.name\n",
        "    memo2.entangled_memory['memo_id'] = memo1.name\n",
        "\n",
        "    memo1.fidelity = memo2.fidelity = fidelity\n",
        "\n",
        "\n",
        "kept_memo_1 = node1.components[node1.resource_manager.kept_memo_name]\n",
        "kept_memo_2 = node2.components[node2.resource_manager.kept_memo_name]\n",
        "meas_memo_1 = node1.components[node1.resource_manager.meas_memo_name]\n",
        "meas_memo_2 = node2.components[node2.resource_manager.meas_memo_name]\n",
        "\n",
        "entangle_memory(kept_memo_1, kept_memo_2, 0.9)\n",
        "entangle_memory(meas_memo_1, meas_memo_2, 0.9)"
      ],
      "metadata": {
        "id": "P338Ll9F9BlB"
      },
      "execution_count": 8,
      "outputs": []
    },
    {
      "cell_type": "code",
      "source": [
        "def pair_protocol(node1: Node, node2: Node):\n",
        "    p1 = node1.protocols[0]\n",
        "    p2 = node2.protocols[0]\n",
        "    kept_memo_1_name = node1.resource_manager.kept_memo_name\n",
        "    meas_memo_1_name = node1.resource_manager.meas_memo_name\n",
        "    kept_memo_2_name = node2.resource_manager.kept_memo_name\n",
        "    meas_memo_2_name = node2.resource_manager.meas_memo_name\n",
        "    p1.set_others(p2.name, node2.name, [kept_memo_2_name, meas_memo_2_name])\n",
        "    p2.set_others(p1.name, node1.name, [kept_memo_1_name, meas_memo_1_name])\n",
        "\n",
        "\n",
        "node1.resource_manager.create_protocol()\n",
        "node2.resource_manager.create_protocol()\n",
        "\n",
        "pair_protocol(node1, node2)\n",
        "\n",
        "tl.init()\n",
        "node1.protocols[0].start()\n",
        "node2.protocols[0].start()\n",
        "tl.run()\n",
        "\n",
        "print(kept_memo_1.name, kept_memo_1.entangled_memory, kept_memo_1.fidelity)\n",
        "# 'node1.kept_memo {'node_id': 'node2', 'memo_id': 'node2.kept_memo'} 0.9263959390862945'\n",
        "# or 'node1.kept_memo {'node_id': 'node2', 'memo_id': 'node2.kept_memo'} 0.9'\n",
        "\n",
        "print(meas_memo_1.name, meas_memo_1.entangled_memory, meas_memo_1.fidelity)\n",
        "# 'node1.meas_memo {'node_id': 'node2', 'memo_id': node2.meas_memo'} 0.9'"
      ],
      "metadata": {
        "colab": {
          "base_uri": "https://localhost:8080/"
        },
        "id": "FrLViO-09DjA",
        "outputId": "9a5e9a31-59d6-462a-b5bc-a712e6b5efec"
      },
      "execution_count": 9,
      "outputs": [
        {
          "output_type": "stream",
          "name": "stdout",
          "text": [
            "node1.kept_memo {'node_id': 'node2', 'memo_id': 'node2.kept_memo'} 0.9263959390862945\n",
            "node1.meas_memo {'node_id': None, 'memo_id': None} 0\n"
          ]
        }
      ]
    },
    {
      "cell_type": "code",
      "source": [
        "tl.init()\n",
        "for i in range(10):\n",
        "    entangle_memory(kept_memo_1, kept_memo_2, 0.9)\n",
        "    entangle_memory(meas_memo_1, meas_memo_2, 0.9)\n",
        "\n",
        "    node1.resource_manager.create_protocol()\n",
        "    node2.resource_manager.create_protocol()\n",
        "\n",
        "    pair_protocol(node1, node2)\n",
        "\n",
        "    node1.protocols[0].start()\n",
        "    node2.protocols[0].start()\n",
        "    tl.run()\n",
        "\n",
        "    print(kept_memo_1.name, kept_memo_1.entangled_memory, kept_memo_1.fidelity)\n",
        "    print(meas_memo_1.name, meas_memo_1.entangled_memory, meas_memo_1.fidelity)"
      ],
      "metadata": {
        "colab": {
          "base_uri": "https://localhost:8080/"
        },
        "id": "UcxeKk9n9Hri",
        "outputId": "3f1187d2-e92a-4b9a-aee1-e9f1ca12ce26"
      },
      "execution_count": 10,
      "outputs": [
        {
          "output_type": "stream",
          "name": "stdout",
          "text": [
            "node1.kept_memo {'node_id': 'node2', 'memo_id': 'node2.kept_memo'} 0.9263959390862945\n",
            "node1.meas_memo {'node_id': None, 'memo_id': None} 0\n",
            "node1.kept_memo {'node_id': 'node2', 'memo_id': 'node2.kept_memo'} 0.9263959390862945\n",
            "node1.meas_memo {'node_id': None, 'memo_id': None} 0\n",
            "node1.kept_memo {'node_id': 'node2', 'memo_id': 'node2.kept_memo'} 0.9263959390862945\n",
            "node1.meas_memo {'node_id': None, 'memo_id': None} 0\n",
            "node1.kept_memo {'node_id': 'node2', 'memo_id': 'node2.kept_memo'} 0.9263959390862945\n",
            "node1.meas_memo {'node_id': None, 'memo_id': None} 0\n",
            "node1.kept_memo {'node_id': 'node2', 'memo_id': 'node2.kept_memo'} 0.9263959390862945\n",
            "node1.meas_memo {'node_id': None, 'memo_id': None} 0\n",
            "node1.kept_memo {'node_id': 'node2', 'memo_id': 'node2.kept_memo'} 0.9263959390862945\n",
            "node1.meas_memo {'node_id': None, 'memo_id': None} 0\n",
            "node1.kept_memo {'node_id': 'node2', 'memo_id': 'node2.kept_memo'} 0.9263959390862945\n",
            "node1.meas_memo {'node_id': None, 'memo_id': None} 0\n",
            "node1.kept_memo {'node_id': 'node2', 'memo_id': 'node2.kept_memo'} 0.9263959390862945\n",
            "node1.meas_memo {'node_id': None, 'memo_id': None} 0\n",
            "node1.kept_memo {'node_id': 'node2', 'memo_id': 'node2.kept_memo'} 0.9263959390862945\n",
            "node1.meas_memo {'node_id': None, 'memo_id': None} 0\n",
            "node1.kept_memo {'node_id': 'node2', 'memo_id': 'node2.kept_memo'} 0.9263959390862945\n",
            "node1.meas_memo {'node_id': None, 'memo_id': None} 0\n"
          ]
        }
      ]
    }
  ]
}